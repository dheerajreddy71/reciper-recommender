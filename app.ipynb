{
  "cells": [
    {
      "cell_type": "markdown",
      "metadata": {
        "colab_type": "text",
        "id": "view-in-github"
      },
      "source": [
        "<a href=\"https://colab.research.google.com/github/kavyajeetbora/recipe_recommender/blob/master/analysis.ipynb\" target=\"_parent\"><img src=\"https://colab.research.google.com/assets/colab-badge.svg\" alt=\"Open In Colab\"/></a>"
      ]
    },
    {
      "cell_type": "code",
      "execution_count": 3,
      "metadata": {
        "id": "-CD0y8516a5u"
      },
      "outputs": [],
      "source": [
        "from glob import glob\n",
        "import pandas as pd\n",
        "import numpy as np\n",
        "import plotly.graph_objects as go\n",
        "import streamlit as st"
      ]
    },
    {
      "cell_type": "code",
      "execution_count": 4,
      "metadata": {},
      "outputs": [
        {
          "data": {
            "text/plain": [
              "nan"
            ]
          },
          "execution_count": 4,
          "metadata": {},
          "output_type": "execute_result"
        }
      ],
      "source": [
        "files = glob(r\"data\\*.parquet\")\n",
        "df = pd.read_parquet(files)\n",
        "df['steps'] = df['steps'].str.strip(\"[]\")\n",
        "df.iloc[0]['steps']"
      ]
    },
    {
      "cell_type": "code",
      "execution_count": 5,
      "metadata": {},
      "outputs": [
        {
          "data": {
            "text/plain": [
              "0         arriba   baked winter squash mexican style\n",
              "1                   a bit different  breakfast pizza\n",
              "2                          all in the kitchen  chili\n",
              "3                                 alouette  potatoes\n",
              "4                 amish  tomato ketchup  for canning\n",
              "                             ...                    \n",
              "231632        egyptian slow cooked eggs  beid hamine\n",
              "231633                  egyptian spiced carrot puree\n",
              "231634                        egyptian spiced prawns\n",
              "231635     egyptian spicy meat pie in a phyllo crust\n",
              "231636                       egyptian spinach omelet\n",
              "Name: name, Length: 231637, dtype: object"
            ]
          },
          "execution_count": 5,
          "metadata": {},
          "output_type": "execute_result"
        }
      ],
      "source": [
        "df['name']"
      ]
    },
    {
      "cell_type": "code",
      "execution_count": 6,
      "metadata": {},
      "outputs": [
        {
          "name": "stdout",
          "output_type": "stream",
          "text": [
            "Shape of the dataframe (231637, 15)\n"
          ]
        },
        {
          "data": {
            "text/html": [
              "<div>\n",
              "<style scoped>\n",
              "    .dataframe tbody tr th:only-of-type {\n",
              "        vertical-align: middle;\n",
              "    }\n",
              "\n",
              "    .dataframe tbody tr th {\n",
              "        vertical-align: top;\n",
              "    }\n",
              "\n",
              "    .dataframe thead th {\n",
              "        text-align: right;\n",
              "    }\n",
              "</style>\n",
              "<table border=\"1\" class=\"dataframe\">\n",
              "  <thead>\n",
              "    <tr style=\"text-align: right;\">\n",
              "      <th></th>\n",
              "      <th>name</th>\n",
              "      <th>minutes</th>\n",
              "      <th>n_steps</th>\n",
              "      <th>steps</th>\n",
              "      <th>description</th>\n",
              "      <th>ingredients</th>\n",
              "      <th>n_ingredients</th>\n",
              "      <th>calories</th>\n",
              "      <th>total fat (PDV)</th>\n",
              "      <th>sugar (PDV)</th>\n",
              "      <th>sodium (PDV)</th>\n",
              "      <th>protein (PDV)</th>\n",
              "      <th>saturated fat (PDV)</th>\n",
              "      <th>carbohydrates (PDV)</th>\n",
              "      <th>embedding</th>\n",
              "    </tr>\n",
              "  </thead>\n",
              "  <tbody>\n",
              "    <tr>\n",
              "      <th>0</th>\n",
              "      <td>arriba   baked winter squash mexican style</td>\n",
              "      <td>55</td>\n",
              "      <td>11</td>\n",
              "      <td>[make a choice and proceed with recipe, depend...</td>\n",
              "      <td>autumn is my favorite time of year to cook! th...</td>\n",
              "      <td>[winter squash, mexican seasoning, mixed spice...</td>\n",
              "      <td>7</td>\n",
              "      <td>51.5</td>\n",
              "      <td>0.0</td>\n",
              "      <td>13.0</td>\n",
              "      <td>0.0</td>\n",
              "      <td>2.0</td>\n",
              "      <td>0.0</td>\n",
              "      <td>4.0</td>\n",
              "      <td>[-0.008845049, 0.009866926, 0.028063796, 0.101...</td>\n",
              "    </tr>\n",
              "    <tr>\n",
              "      <th>1</th>\n",
              "      <td>a bit different  breakfast pizza</td>\n",
              "      <td>30</td>\n",
              "      <td>9</td>\n",
              "      <td>[preheat oven to 425 degrees f, press dough in...</td>\n",
              "      <td>this recipe calls for the crust to be prebaked...</td>\n",
              "      <td>[prepared pizza crust, sausage patty, eggs, mi...</td>\n",
              "      <td>6</td>\n",
              "      <td>173.4</td>\n",
              "      <td>18.0</td>\n",
              "      <td>0.0</td>\n",
              "      <td>17.0</td>\n",
              "      <td>22.0</td>\n",
              "      <td>35.0</td>\n",
              "      <td>1.0</td>\n",
              "      <td>[-0.054575536, 0.027983457, 0.065263726, 0.032...</td>\n",
              "    </tr>\n",
              "    <tr>\n",
              "      <th>2</th>\n",
              "      <td>all in the kitchen  chili</td>\n",
              "      <td>130</td>\n",
              "      <td>6</td>\n",
              "      <td>[brown ground beef in large pot, add chopped o...</td>\n",
              "      <td>this modified version of 'mom's' chili was a h...</td>\n",
              "      <td>[ground beef, yellow onions, diced tomatoes, t...</td>\n",
              "      <td>13</td>\n",
              "      <td>269.8</td>\n",
              "      <td>22.0</td>\n",
              "      <td>32.0</td>\n",
              "      <td>48.0</td>\n",
              "      <td>39.0</td>\n",
              "      <td>27.0</td>\n",
              "      <td>5.0</td>\n",
              "      <td>[-0.10401253, -0.024388006, 0.06653514, 0.0346...</td>\n",
              "    </tr>\n",
              "  </tbody>\n",
              "</table>\n",
              "</div>"
            ],
            "text/plain": [
              "                                         name  minutes  n_steps  \\\n",
              "0  arriba   baked winter squash mexican style       55       11   \n",
              "1            a bit different  breakfast pizza       30        9   \n",
              "2                   all in the kitchen  chili      130        6   \n",
              "\n",
              "                                               steps  \\\n",
              "0  [make a choice and proceed with recipe, depend...   \n",
              "1  [preheat oven to 425 degrees f, press dough in...   \n",
              "2  [brown ground beef in large pot, add chopped o...   \n",
              "\n",
              "                                         description  \\\n",
              "0  autumn is my favorite time of year to cook! th...   \n",
              "1  this recipe calls for the crust to be prebaked...   \n",
              "2  this modified version of 'mom's' chili was a h...   \n",
              "\n",
              "                                         ingredients  n_ingredients  calories  \\\n",
              "0  [winter squash, mexican seasoning, mixed spice...              7      51.5   \n",
              "1  [prepared pizza crust, sausage patty, eggs, mi...              6     173.4   \n",
              "2  [ground beef, yellow onions, diced tomatoes, t...             13     269.8   \n",
              "\n",
              "   total fat (PDV)  sugar (PDV)  sodium (PDV)  protein (PDV)  \\\n",
              "0              0.0         13.0           0.0            2.0   \n",
              "1             18.0          0.0          17.0           22.0   \n",
              "2             22.0         32.0          48.0           39.0   \n",
              "\n",
              "   saturated fat (PDV)  carbohydrates (PDV)  \\\n",
              "0                  0.0                  4.0   \n",
              "1                 35.0                  1.0   \n",
              "2                 27.0                  5.0   \n",
              "\n",
              "                                           embedding  \n",
              "0  [-0.008845049, 0.009866926, 0.028063796, 0.101...  \n",
              "1  [-0.054575536, 0.027983457, 0.065263726, 0.032...  \n",
              "2  [-0.10401253, -0.024388006, 0.06653514, 0.0346...  "
            ]
          },
          "execution_count": 6,
          "metadata": {},
          "output_type": "execute_result"
        }
      ],
      "source": [
        "files = glob(r\"data\\*.parquet\")\n",
        "df = pd.read_parquet(files)\n",
        "df['ingredients'] = df['ingredients'].str.strip(\"[]\").str.replace(\"'\",\"\").str.replace('\"',\"\").str.split(\"',\").apply(lambda x: [y.strip() for y in x])\n",
        "print(\"Shape of the dataframe\",df.shape)\n",
        "df.head(3)"
      ]
    },
    {
      "cell_type": "code",
      "execution_count": 7,
      "metadata": {},
      "outputs": [],
      "source": [
        "def cosine_similarity(vec1,vec2):\n",
        "    '''\n",
        "    Returns the cosine similarity between two vectors of n dimension\n",
        "    '''\n",
        "    denom = np.sqrt(np.sum(np.square(vec1))) * np.sqrt(np.sum(np.square(vec2)))\n",
        "    return np.round(np.dot(vec1,vec2) / denom * 100, 2)"
      ]
    },
    {
      "cell_type": "code",
      "execution_count": 8,
      "metadata": {},
      "outputs": [
        {
          "name": "stdout",
          "output_type": "stream",
          "text": [
            "Name of the dish: 1890 cream cake\n"
          ]
        }
      ],
      "source": [
        "index = 999\n",
        "data = df.iloc[index]\n",
        "recipe, vector = data['name'], data['embedding']\n",
        "\n",
        "print(\"Name of the dish:\", recipe)"
      ]
    },
    {
      "cell_type": "code",
      "execution_count": 9,
      "metadata": {},
      "outputs": [
        {
          "name": "stdout",
          "output_type": "stream",
          "text": [
            "CPU times: total: 3.98 s\n",
            "Wall time: 3.97 s\n"
          ]
        },
        {
          "data": {
            "text/html": [
              "<div>\n",
              "<style scoped>\n",
              "    .dataframe tbody tr th:only-of-type {\n",
              "        vertical-align: middle;\n",
              "    }\n",
              "\n",
              "    .dataframe tbody tr th {\n",
              "        vertical-align: top;\n",
              "    }\n",
              "\n",
              "    .dataframe thead th {\n",
              "        text-align: right;\n",
              "    }\n",
              "</style>\n",
              "<table border=\"1\" class=\"dataframe\">\n",
              "  <thead>\n",
              "    <tr style=\"text-align: right;\">\n",
              "      <th></th>\n",
              "      <th>name</th>\n",
              "      <th>minutes</th>\n",
              "      <th>n_steps</th>\n",
              "      <th>steps</th>\n",
              "      <th>description</th>\n",
              "      <th>ingredients</th>\n",
              "      <th>n_ingredients</th>\n",
              "      <th>calories</th>\n",
              "      <th>total fat (PDV)</th>\n",
              "      <th>sugar (PDV)</th>\n",
              "      <th>sodium (PDV)</th>\n",
              "      <th>protein (PDV)</th>\n",
              "      <th>saturated fat (PDV)</th>\n",
              "      <th>carbohydrates (PDV)</th>\n",
              "      <th>similarity</th>\n",
              "    </tr>\n",
              "  </thead>\n",
              "  <tbody>\n",
              "    <tr>\n",
              "      <th>170691</th>\n",
              "      <td>white sponge cake</td>\n",
              "      <td>70</td>\n",
              "      <td>21</td>\n",
              "      <td>[preheat oven to 400 degrees f, grease 3- 12 i...</td>\n",
              "      <td>nice light white cake. delicious served filled...</td>\n",
              "      <td>[egg yolk, eggs, sugar, salt, baking powder, c...</td>\n",
              "      <td>10</td>\n",
              "      <td>584.2</td>\n",
              "      <td>30.0</td>\n",
              "      <td>168.0</td>\n",
              "      <td>26.0</td>\n",
              "      <td>24.0</td>\n",
              "      <td>13.0</td>\n",
              "      <td>29.0</td>\n",
              "      <td>93.06</td>\n",
              "    </tr>\n",
              "    <tr>\n",
              "      <th>3952</th>\n",
              "      <td>almond torta</td>\n",
              "      <td>90</td>\n",
              "      <td>17</td>\n",
              "      <td>[preheat oven to 325 f, butter and flour a 10 ...</td>\n",
              "      <td>posted for zaar world tour 2005.  recipe sourc...</td>\n",
              "      <td>[almonds, flour, salt, egg yolks, amaretto, va...</td>\n",
              "      <td>11</td>\n",
              "      <td>205.3</td>\n",
              "      <td>17.0</td>\n",
              "      <td>48.0</td>\n",
              "      <td>5.0</td>\n",
              "      <td>15.0</td>\n",
              "      <td>7.0</td>\n",
              "      <td>6.0</td>\n",
              "      <td>92.76</td>\n",
              "    </tr>\n",
              "    <tr>\n",
              "      <th>136066</th>\n",
              "      <td>south african beesting cake with custard filling</td>\n",
              "      <td>105</td>\n",
              "      <td>24</td>\n",
              "      <td>[preheat oven to 350 deg f / 180 deg celsius, ...</td>\n",
              "      <td>i do not know where the \"bee-sting\" comes from...</td>\n",
              "      <td>[flour, baking powder, salt, butter, superfine...</td>\n",
              "      <td>13</td>\n",
              "      <td>500.9</td>\n",
              "      <td>49.0</td>\n",
              "      <td>83.0</td>\n",
              "      <td>15.0</td>\n",
              "      <td>16.0</td>\n",
              "      <td>83.0</td>\n",
              "      <td>15.0</td>\n",
              "      <td>92.58</td>\n",
              "    </tr>\n",
              "  </tbody>\n",
              "</table>\n",
              "</div>"
            ],
            "text/plain": [
              "                                                    name  minutes  n_steps  \\\n",
              "170691                                 white sponge cake       70       21   \n",
              "3952                                        almond torta       90       17   \n",
              "136066  south african beesting cake with custard filling      105       24   \n",
              "\n",
              "                                                    steps  \\\n",
              "170691  [preheat oven to 400 degrees f, grease 3- 12 i...   \n",
              "3952    [preheat oven to 325 f, butter and flour a 10 ...   \n",
              "136066  [preheat oven to 350 deg f / 180 deg celsius, ...   \n",
              "\n",
              "                                              description  \\\n",
              "170691  nice light white cake. delicious served filled...   \n",
              "3952    posted for zaar world tour 2005.  recipe sourc...   \n",
              "136066  i do not know where the \"bee-sting\" comes from...   \n",
              "\n",
              "                                              ingredients  n_ingredients  \\\n",
              "170691  [egg yolk, eggs, sugar, salt, baking powder, c...             10   \n",
              "3952    [almonds, flour, salt, egg yolks, amaretto, va...             11   \n",
              "136066  [flour, baking powder, salt, butter, superfine...             13   \n",
              "\n",
              "        calories  total fat (PDV)  sugar (PDV)  sodium (PDV)  protein (PDV)  \\\n",
              "170691     584.2             30.0        168.0          26.0           24.0   \n",
              "3952       205.3             17.0         48.0           5.0           15.0   \n",
              "136066     500.9             49.0         83.0          15.0           16.0   \n",
              "\n",
              "        saturated fat (PDV)  carbohydrates (PDV)  similarity  \n",
              "170691                 13.0                 29.0       93.06  \n",
              "3952                    7.0                  6.0       92.76  \n",
              "136066                 83.0                 15.0       92.58  "
            ]
          },
          "execution_count": 9,
          "metadata": {},
          "output_type": "execute_result"
        }
      ],
      "source": [
        "%%time\n",
        "\n",
        "df_result = df.copy()\n",
        "df_result['similarity'] = df_result['embedding'].apply(lambda x : cosine_similarity(vector, x))\n",
        "df_result.drop('embedding', axis=1, inplace=True)\n",
        "df_result.sort_values(by=\"similarity\", ascending=False).iloc[1:4]"
      ]
    },
    {
      "cell_type": "code",
      "execution_count": 10,
      "metadata": {},
      "outputs": [
        {
          "name": "stdout",
          "output_type": "stream",
          "text": [
            "<class 'pandas.core.frame.DataFrame'>\n",
            "RangeIndex: 231637 entries, 0 to 231636\n",
            "Data columns (total 15 columns):\n",
            " #   Column               Non-Null Count   Dtype  \n",
            "---  ------               --------------   -----  \n",
            " 0   name                 231636 non-null  object \n",
            " 1   minutes              231637 non-null  int64  \n",
            " 2   n_steps              231637 non-null  int64  \n",
            " 3   steps                231637 non-null  object \n",
            " 4   description          226658 non-null  object \n",
            " 5   ingredients          231637 non-null  object \n",
            " 6   n_ingredients        231637 non-null  int64  \n",
            " 7   calories             231637 non-null  float64\n",
            " 8   total fat (PDV)      231637 non-null  float64\n",
            " 9   sugar (PDV)          231637 non-null  float64\n",
            " 10  sodium (PDV)         231637 non-null  float64\n",
            " 11  protein (PDV)        231637 non-null  float64\n",
            " 12  saturated fat (PDV)  231637 non-null  float64\n",
            " 13  carbohydrates (PDV)  231637 non-null  float64\n",
            " 14  similarity           231637 non-null  float64\n",
            "dtypes: float64(8), int64(3), object(4)\n",
            "memory usage: 26.5+ MB\n"
          ]
        }
      ],
      "source": [
        "df_result.info()"
      ]
    },
    {
      "cell_type": "markdown",
      "metadata": {},
      "source": [
        "## Plotting the nutrition values"
      ]
    },
    {
      "cell_type": "code",
      "execution_count": 11,
      "metadata": {},
      "outputs": [],
      "source": [
        "def setColor(pdv):\n",
        "    if pdv<5:\n",
        "        return '#8ADAB2'\n",
        "    \n",
        "    elif pdv>=5 and pdv<20:\n",
        "        return '#D0F288'\n",
        "    \n",
        "    elif pdv>20:\n",
        "        return \"#DF826C\"\n",
        "    \n",
        "def plot_nutrition(data):\n",
        "    \n",
        "    x = data.index[8:13]\n",
        "    y = data.values[8:13]\n",
        "\n",
        "    fig = go.Figure(\n",
        "        go.Bar(\n",
        "            name=\"\",\n",
        "            x = x,\n",
        "            y = y,\n",
        "            width = 0.2,\n",
        "            uirevision = True,\n",
        "            marker=dict(color = list(map(setColor,y))),\n",
        "            hovertemplate =\n",
        "                '<br><b>%{x}</b>: %{y:.2f}'\n",
        "            ),\n",
        "            \n",
        "    )\n",
        "    fig.update_layout(\n",
        "        template=\"plotly_dark\",\n",
        "        margin=dict(l=20, r=20, t=20, b=20)\n",
        "    )\n",
        "    fig.update_xaxes(\n",
        "        showgrid=False,\n",
        "    )\n",
        "    # fig.update_yaxes(\n",
        "    #     showgrid=False,\n",
        "    #     showticklabels=False\n",
        "    # )\n",
        "    fig.layout.xaxis.fixedrange = True\n",
        "    fig.layout.yaxis.fixedrange = True\n",
        "\n",
        "    return fig"
      ]
    },
    {
      "cell_type": "code",
      "execution_count": 12,
      "metadata": {},
      "outputs": [
        {
          "data": {
            "text/plain": [
              "Index(['name', 'minutes', 'n_steps', 'steps', 'description', 'ingredients',\n",
              "       'n_ingredients', 'calories', 'total fat (PDV)', 'sugar (PDV)',\n",
              "       'sodium (PDV)', 'protein (PDV)', 'saturated fat (PDV)',\n",
              "       'carbohydrates (PDV)', 'embedding'],\n",
              "      dtype='object')"
            ]
          },
          "execution_count": 12,
          "metadata": {},
          "output_type": "execute_result"
        }
      ],
      "source": [
        "data.index"
      ]
    },
    {
      "cell_type": "code",
      "execution_count": 13,
      "metadata": {},
      "outputs": [
        {
          "data": {
            "application/vnd.plotly.v1+json": {
              "config": {
                "plotlyServerURL": "https://plot.ly"
              },
              "data": [
                {
                  "hovertemplate": "<br><b>%{x}</b>: %{y:.2f}",
                  "marker": {
                    "color": [
                      "#D0F288",
                      "#D0F288",
                      "#8ADAB2",
                      "#D0F288",
                      "#D0F288"
                    ]
                  },
                  "name": "",
                  "type": "bar",
                  "uirevision": true,
                  "width": 0.2,
                  "x": [
                    "total fat (PDV)",
                    "sugar (PDV)",
                    "sodium (PDV)",
                    "protein (PDV)",
                    "saturated fat (PDV)"
                  ],
                  "y": [
                    17,
                    10,
                    2,
                    14,
                    8
                  ]
                }
              ],
              "layout": {
                "margin": {
                  "b": 20,
                  "l": 20,
                  "r": 20,
                  "t": 20
                },
                "template": {
                  "data": {
                    "bar": [
                      {
                        "error_x": {
                          "color": "#f2f5fa"
                        },
                        "error_y": {
                          "color": "#f2f5fa"
                        },
                        "marker": {
                          "line": {
                            "color": "rgb(17,17,17)",
                            "width": 0.5
                          },
                          "pattern": {
                            "fillmode": "overlay",
                            "size": 10,
                            "solidity": 0.2
                          }
                        },
                        "type": "bar"
                      }
                    ],
                    "barpolar": [
                      {
                        "marker": {
                          "line": {
                            "color": "rgb(17,17,17)",
                            "width": 0.5
                          },
                          "pattern": {
                            "fillmode": "overlay",
                            "size": 10,
                            "solidity": 0.2
                          }
                        },
                        "type": "barpolar"
                      }
                    ],
                    "carpet": [
                      {
                        "aaxis": {
                          "endlinecolor": "#A2B1C6",
                          "gridcolor": "#506784",
                          "linecolor": "#506784",
                          "minorgridcolor": "#506784",
                          "startlinecolor": "#A2B1C6"
                        },
                        "baxis": {
                          "endlinecolor": "#A2B1C6",
                          "gridcolor": "#506784",
                          "linecolor": "#506784",
                          "minorgridcolor": "#506784",
                          "startlinecolor": "#A2B1C6"
                        },
                        "type": "carpet"
                      }
                    ],
                    "choropleth": [
                      {
                        "colorbar": {
                          "outlinewidth": 0,
                          "ticks": ""
                        },
                        "type": "choropleth"
                      }
                    ],
                    "contour": [
                      {
                        "colorbar": {
                          "outlinewidth": 0,
                          "ticks": ""
                        },
                        "colorscale": [
                          [
                            0,
                            "#0d0887"
                          ],
                          [
                            0.1111111111111111,
                            "#46039f"
                          ],
                          [
                            0.2222222222222222,
                            "#7201a8"
                          ],
                          [
                            0.3333333333333333,
                            "#9c179e"
                          ],
                          [
                            0.4444444444444444,
                            "#bd3786"
                          ],
                          [
                            0.5555555555555556,
                            "#d8576b"
                          ],
                          [
                            0.6666666666666666,
                            "#ed7953"
                          ],
                          [
                            0.7777777777777778,
                            "#fb9f3a"
                          ],
                          [
                            0.8888888888888888,
                            "#fdca26"
                          ],
                          [
                            1,
                            "#f0f921"
                          ]
                        ],
                        "type": "contour"
                      }
                    ],
                    "contourcarpet": [
                      {
                        "colorbar": {
                          "outlinewidth": 0,
                          "ticks": ""
                        },
                        "type": "contourcarpet"
                      }
                    ],
                    "heatmap": [
                      {
                        "colorbar": {
                          "outlinewidth": 0,
                          "ticks": ""
                        },
                        "colorscale": [
                          [
                            0,
                            "#0d0887"
                          ],
                          [
                            0.1111111111111111,
                            "#46039f"
                          ],
                          [
                            0.2222222222222222,
                            "#7201a8"
                          ],
                          [
                            0.3333333333333333,
                            "#9c179e"
                          ],
                          [
                            0.4444444444444444,
                            "#bd3786"
                          ],
                          [
                            0.5555555555555556,
                            "#d8576b"
                          ],
                          [
                            0.6666666666666666,
                            "#ed7953"
                          ],
                          [
                            0.7777777777777778,
                            "#fb9f3a"
                          ],
                          [
                            0.8888888888888888,
                            "#fdca26"
                          ],
                          [
                            1,
                            "#f0f921"
                          ]
                        ],
                        "type": "heatmap"
                      }
                    ],
                    "heatmapgl": [
                      {
                        "colorbar": {
                          "outlinewidth": 0,
                          "ticks": ""
                        },
                        "colorscale": [
                          [
                            0,
                            "#0d0887"
                          ],
                          [
                            0.1111111111111111,
                            "#46039f"
                          ],
                          [
                            0.2222222222222222,
                            "#7201a8"
                          ],
                          [
                            0.3333333333333333,
                            "#9c179e"
                          ],
                          [
                            0.4444444444444444,
                            "#bd3786"
                          ],
                          [
                            0.5555555555555556,
                            "#d8576b"
                          ],
                          [
                            0.6666666666666666,
                            "#ed7953"
                          ],
                          [
                            0.7777777777777778,
                            "#fb9f3a"
                          ],
                          [
                            0.8888888888888888,
                            "#fdca26"
                          ],
                          [
                            1,
                            "#f0f921"
                          ]
                        ],
                        "type": "heatmapgl"
                      }
                    ],
                    "histogram": [
                      {
                        "marker": {
                          "pattern": {
                            "fillmode": "overlay",
                            "size": 10,
                            "solidity": 0.2
                          }
                        },
                        "type": "histogram"
                      }
                    ],
                    "histogram2d": [
                      {
                        "colorbar": {
                          "outlinewidth": 0,
                          "ticks": ""
                        },
                        "colorscale": [
                          [
                            0,
                            "#0d0887"
                          ],
                          [
                            0.1111111111111111,
                            "#46039f"
                          ],
                          [
                            0.2222222222222222,
                            "#7201a8"
                          ],
                          [
                            0.3333333333333333,
                            "#9c179e"
                          ],
                          [
                            0.4444444444444444,
                            "#bd3786"
                          ],
                          [
                            0.5555555555555556,
                            "#d8576b"
                          ],
                          [
                            0.6666666666666666,
                            "#ed7953"
                          ],
                          [
                            0.7777777777777778,
                            "#fb9f3a"
                          ],
                          [
                            0.8888888888888888,
                            "#fdca26"
                          ],
                          [
                            1,
                            "#f0f921"
                          ]
                        ],
                        "type": "histogram2d"
                      }
                    ],
                    "histogram2dcontour": [
                      {
                        "colorbar": {
                          "outlinewidth": 0,
                          "ticks": ""
                        },
                        "colorscale": [
                          [
                            0,
                            "#0d0887"
                          ],
                          [
                            0.1111111111111111,
                            "#46039f"
                          ],
                          [
                            0.2222222222222222,
                            "#7201a8"
                          ],
                          [
                            0.3333333333333333,
                            "#9c179e"
                          ],
                          [
                            0.4444444444444444,
                            "#bd3786"
                          ],
                          [
                            0.5555555555555556,
                            "#d8576b"
                          ],
                          [
                            0.6666666666666666,
                            "#ed7953"
                          ],
                          [
                            0.7777777777777778,
                            "#fb9f3a"
                          ],
                          [
                            0.8888888888888888,
                            "#fdca26"
                          ],
                          [
                            1,
                            "#f0f921"
                          ]
                        ],
                        "type": "histogram2dcontour"
                      }
                    ],
                    "mesh3d": [
                      {
                        "colorbar": {
                          "outlinewidth": 0,
                          "ticks": ""
                        },
                        "type": "mesh3d"
                      }
                    ],
                    "parcoords": [
                      {
                        "line": {
                          "colorbar": {
                            "outlinewidth": 0,
                            "ticks": ""
                          }
                        },
                        "type": "parcoords"
                      }
                    ],
                    "pie": [
                      {
                        "automargin": true,
                        "type": "pie"
                      }
                    ],
                    "scatter": [
                      {
                        "marker": {
                          "line": {
                            "color": "#283442"
                          }
                        },
                        "type": "scatter"
                      }
                    ],
                    "scatter3d": [
                      {
                        "line": {
                          "colorbar": {
                            "outlinewidth": 0,
                            "ticks": ""
                          }
                        },
                        "marker": {
                          "colorbar": {
                            "outlinewidth": 0,
                            "ticks": ""
                          }
                        },
                        "type": "scatter3d"
                      }
                    ],
                    "scattercarpet": [
                      {
                        "marker": {
                          "colorbar": {
                            "outlinewidth": 0,
                            "ticks": ""
                          }
                        },
                        "type": "scattercarpet"
                      }
                    ],
                    "scattergeo": [
                      {
                        "marker": {
                          "colorbar": {
                            "outlinewidth": 0,
                            "ticks": ""
                          }
                        },
                        "type": "scattergeo"
                      }
                    ],
                    "scattergl": [
                      {
                        "marker": {
                          "line": {
                            "color": "#283442"
                          }
                        },
                        "type": "scattergl"
                      }
                    ],
                    "scattermapbox": [
                      {
                        "marker": {
                          "colorbar": {
                            "outlinewidth": 0,
                            "ticks": ""
                          }
                        },
                        "type": "scattermapbox"
                      }
                    ],
                    "scatterpolar": [
                      {
                        "marker": {
                          "colorbar": {
                            "outlinewidth": 0,
                            "ticks": ""
                          }
                        },
                        "type": "scatterpolar"
                      }
                    ],
                    "scatterpolargl": [
                      {
                        "marker": {
                          "colorbar": {
                            "outlinewidth": 0,
                            "ticks": ""
                          }
                        },
                        "type": "scatterpolargl"
                      }
                    ],
                    "scatterternary": [
                      {
                        "marker": {
                          "colorbar": {
                            "outlinewidth": 0,
                            "ticks": ""
                          }
                        },
                        "type": "scatterternary"
                      }
                    ],
                    "surface": [
                      {
                        "colorbar": {
                          "outlinewidth": 0,
                          "ticks": ""
                        },
                        "colorscale": [
                          [
                            0,
                            "#0d0887"
                          ],
                          [
                            0.1111111111111111,
                            "#46039f"
                          ],
                          [
                            0.2222222222222222,
                            "#7201a8"
                          ],
                          [
                            0.3333333333333333,
                            "#9c179e"
                          ],
                          [
                            0.4444444444444444,
                            "#bd3786"
                          ],
                          [
                            0.5555555555555556,
                            "#d8576b"
                          ],
                          [
                            0.6666666666666666,
                            "#ed7953"
                          ],
                          [
                            0.7777777777777778,
                            "#fb9f3a"
                          ],
                          [
                            0.8888888888888888,
                            "#fdca26"
                          ],
                          [
                            1,
                            "#f0f921"
                          ]
                        ],
                        "type": "surface"
                      }
                    ],
                    "table": [
                      {
                        "cells": {
                          "fill": {
                            "color": "#506784"
                          },
                          "line": {
                            "color": "rgb(17,17,17)"
                          }
                        },
                        "header": {
                          "fill": {
                            "color": "#2a3f5f"
                          },
                          "line": {
                            "color": "rgb(17,17,17)"
                          }
                        },
                        "type": "table"
                      }
                    ]
                  },
                  "layout": {
                    "annotationdefaults": {
                      "arrowcolor": "#f2f5fa",
                      "arrowhead": 0,
                      "arrowwidth": 1
                    },
                    "autotypenumbers": "strict",
                    "coloraxis": {
                      "colorbar": {
                        "outlinewidth": 0,
                        "ticks": ""
                      }
                    },
                    "colorscale": {
                      "diverging": [
                        [
                          0,
                          "#8e0152"
                        ],
                        [
                          0.1,
                          "#c51b7d"
                        ],
                        [
                          0.2,
                          "#de77ae"
                        ],
                        [
                          0.3,
                          "#f1b6da"
                        ],
                        [
                          0.4,
                          "#fde0ef"
                        ],
                        [
                          0.5,
                          "#f7f7f7"
                        ],
                        [
                          0.6,
                          "#e6f5d0"
                        ],
                        [
                          0.7,
                          "#b8e186"
                        ],
                        [
                          0.8,
                          "#7fbc41"
                        ],
                        [
                          0.9,
                          "#4d9221"
                        ],
                        [
                          1,
                          "#276419"
                        ]
                      ],
                      "sequential": [
                        [
                          0,
                          "#0d0887"
                        ],
                        [
                          0.1111111111111111,
                          "#46039f"
                        ],
                        [
                          0.2222222222222222,
                          "#7201a8"
                        ],
                        [
                          0.3333333333333333,
                          "#9c179e"
                        ],
                        [
                          0.4444444444444444,
                          "#bd3786"
                        ],
                        [
                          0.5555555555555556,
                          "#d8576b"
                        ],
                        [
                          0.6666666666666666,
                          "#ed7953"
                        ],
                        [
                          0.7777777777777778,
                          "#fb9f3a"
                        ],
                        [
                          0.8888888888888888,
                          "#fdca26"
                        ],
                        [
                          1,
                          "#f0f921"
                        ]
                      ],
                      "sequentialminus": [
                        [
                          0,
                          "#0d0887"
                        ],
                        [
                          0.1111111111111111,
                          "#46039f"
                        ],
                        [
                          0.2222222222222222,
                          "#7201a8"
                        ],
                        [
                          0.3333333333333333,
                          "#9c179e"
                        ],
                        [
                          0.4444444444444444,
                          "#bd3786"
                        ],
                        [
                          0.5555555555555556,
                          "#d8576b"
                        ],
                        [
                          0.6666666666666666,
                          "#ed7953"
                        ],
                        [
                          0.7777777777777778,
                          "#fb9f3a"
                        ],
                        [
                          0.8888888888888888,
                          "#fdca26"
                        ],
                        [
                          1,
                          "#f0f921"
                        ]
                      ]
                    },
                    "colorway": [
                      "#636efa",
                      "#EF553B",
                      "#00cc96",
                      "#ab63fa",
                      "#FFA15A",
                      "#19d3f3",
                      "#FF6692",
                      "#B6E880",
                      "#FF97FF",
                      "#FECB52"
                    ],
                    "font": {
                      "color": "#f2f5fa"
                    },
                    "geo": {
                      "bgcolor": "rgb(17,17,17)",
                      "lakecolor": "rgb(17,17,17)",
                      "landcolor": "rgb(17,17,17)",
                      "showlakes": true,
                      "showland": true,
                      "subunitcolor": "#506784"
                    },
                    "hoverlabel": {
                      "align": "left"
                    },
                    "hovermode": "closest",
                    "mapbox": {
                      "style": "dark"
                    },
                    "paper_bgcolor": "rgb(17,17,17)",
                    "plot_bgcolor": "rgb(17,17,17)",
                    "polar": {
                      "angularaxis": {
                        "gridcolor": "#506784",
                        "linecolor": "#506784",
                        "ticks": ""
                      },
                      "bgcolor": "rgb(17,17,17)",
                      "radialaxis": {
                        "gridcolor": "#506784",
                        "linecolor": "#506784",
                        "ticks": ""
                      }
                    },
                    "scene": {
                      "xaxis": {
                        "backgroundcolor": "rgb(17,17,17)",
                        "gridcolor": "#506784",
                        "gridwidth": 2,
                        "linecolor": "#506784",
                        "showbackground": true,
                        "ticks": "",
                        "zerolinecolor": "#C8D4E3"
                      },
                      "yaxis": {
                        "backgroundcolor": "rgb(17,17,17)",
                        "gridcolor": "#506784",
                        "gridwidth": 2,
                        "linecolor": "#506784",
                        "showbackground": true,
                        "ticks": "",
                        "zerolinecolor": "#C8D4E3"
                      },
                      "zaxis": {
                        "backgroundcolor": "rgb(17,17,17)",
                        "gridcolor": "#506784",
                        "gridwidth": 2,
                        "linecolor": "#506784",
                        "showbackground": true,
                        "ticks": "",
                        "zerolinecolor": "#C8D4E3"
                      }
                    },
                    "shapedefaults": {
                      "line": {
                        "color": "#f2f5fa"
                      }
                    },
                    "sliderdefaults": {
                      "bgcolor": "#C8D4E3",
                      "bordercolor": "rgb(17,17,17)",
                      "borderwidth": 1,
                      "tickwidth": 0
                    },
                    "ternary": {
                      "aaxis": {
                        "gridcolor": "#506784",
                        "linecolor": "#506784",
                        "ticks": ""
                      },
                      "baxis": {
                        "gridcolor": "#506784",
                        "linecolor": "#506784",
                        "ticks": ""
                      },
                      "bgcolor": "rgb(17,17,17)",
                      "caxis": {
                        "gridcolor": "#506784",
                        "linecolor": "#506784",
                        "ticks": ""
                      }
                    },
                    "title": {
                      "x": 0.05
                    },
                    "updatemenudefaults": {
                      "bgcolor": "#506784",
                      "borderwidth": 0
                    },
                    "xaxis": {
                      "automargin": true,
                      "gridcolor": "#283442",
                      "linecolor": "#506784",
                      "ticks": "",
                      "title": {
                        "standoff": 15
                      },
                      "zerolinecolor": "#283442",
                      "zerolinewidth": 2
                    },
                    "yaxis": {
                      "automargin": true,
                      "gridcolor": "#283442",
                      "linecolor": "#506784",
                      "ticks": "",
                      "title": {
                        "standoff": 15
                      },
                      "zerolinecolor": "#283442",
                      "zerolinewidth": 2
                    }
                  }
                },
                "xaxis": {
                  "fixedrange": true,
                  "showgrid": false
                },
                "yaxis": {
                  "fixedrange": true
                }
              }
            }
          },
          "metadata": {},
          "output_type": "display_data"
        }
      ],
      "source": [
        "fig = plot_nutrition(df_result.iloc[3])\n",
        "fig.show()"
      ]
    },
    {
      "cell_type": "code",
      "execution_count": 15,
      "metadata": {},
      "outputs": [
        {
          "data": {
            "text/html": [
              "<div>\n",
              "<style scoped>\n",
              "    .dataframe tbody tr th:only-of-type {\n",
              "        vertical-align: middle;\n",
              "    }\n",
              "\n",
              "    .dataframe tbody tr th {\n",
              "        vertical-align: top;\n",
              "    }\n",
              "\n",
              "    .dataframe thead th {\n",
              "        text-align: right;\n",
              "    }\n",
              "</style>\n",
              "<table border=\"1\" class=\"dataframe\">\n",
              "  <thead>\n",
              "    <tr style=\"text-align: right;\">\n",
              "      <th></th>\n",
              "      <th>name</th>\n",
              "      <th>minutes</th>\n",
              "      <th>n_steps</th>\n",
              "      <th>steps</th>\n",
              "      <th>description</th>\n",
              "      <th>ingredients</th>\n",
              "      <th>n_ingredients</th>\n",
              "      <th>calories</th>\n",
              "      <th>total fat (PDV)</th>\n",
              "      <th>sugar (PDV)</th>\n",
              "      <th>sodium (PDV)</th>\n",
              "      <th>protein (PDV)</th>\n",
              "      <th>saturated fat (PDV)</th>\n",
              "      <th>carbohydrates (PDV)</th>\n",
              "      <th>embedding</th>\n",
              "    </tr>\n",
              "  </thead>\n",
              "  <tbody>\n",
              "    <tr>\n",
              "      <th>0</th>\n",
              "      <td>arriba   baked winter squash mexican style</td>\n",
              "      <td>55</td>\n",
              "      <td>11</td>\n",
              "      <td>[make a choice and proceed with recipe, depend...</td>\n",
              "      <td>autumn is my favorite time of year to cook! th...</td>\n",
              "      <td>winter squash, mexican seasoning, mixed spice,...</td>\n",
              "      <td>7</td>\n",
              "      <td>51.5</td>\n",
              "      <td>0.0</td>\n",
              "      <td>13.0</td>\n",
              "      <td>0.0</td>\n",
              "      <td>2.0</td>\n",
              "      <td>0.0</td>\n",
              "      <td>4.0</td>\n",
              "      <td>[-0.008845049, 0.009866926, 0.028063796, 0.101...</td>\n",
              "    </tr>\n",
              "    <tr>\n",
              "      <th>1</th>\n",
              "      <td>a bit different  breakfast pizza</td>\n",
              "      <td>30</td>\n",
              "      <td>9</td>\n",
              "      <td>[preheat oven to 425 degrees f, press dough in...</td>\n",
              "      <td>this recipe calls for the crust to be prebaked...</td>\n",
              "      <td>prepared pizza crust, sausage patty, eggs, mil...</td>\n",
              "      <td>6</td>\n",
              "      <td>173.4</td>\n",
              "      <td>18.0</td>\n",
              "      <td>0.0</td>\n",
              "      <td>17.0</td>\n",
              "      <td>22.0</td>\n",
              "      <td>35.0</td>\n",
              "      <td>1.0</td>\n",
              "      <td>[-0.054575536, 0.027983457, 0.065263726, 0.032...</td>\n",
              "    </tr>\n",
              "    <tr>\n",
              "      <th>2</th>\n",
              "      <td>all in the kitchen  chili</td>\n",
              "      <td>130</td>\n",
              "      <td>6</td>\n",
              "      <td>[brown ground beef in large pot, add chopped o...</td>\n",
              "      <td>this modified version of 'mom's' chili was a h...</td>\n",
              "      <td>ground beef, yellow onions, diced tomatoes, to...</td>\n",
              "      <td>13</td>\n",
              "      <td>269.8</td>\n",
              "      <td>22.0</td>\n",
              "      <td>32.0</td>\n",
              "      <td>48.0</td>\n",
              "      <td>39.0</td>\n",
              "      <td>27.0</td>\n",
              "      <td>5.0</td>\n",
              "      <td>[-0.10401253, -0.024388006, 0.06653514, 0.0346...</td>\n",
              "    </tr>\n",
              "    <tr>\n",
              "      <th>3</th>\n",
              "      <td>alouette  potatoes</td>\n",
              "      <td>45</td>\n",
              "      <td>11</td>\n",
              "      <td>[place potatoes in a large pot of lightly salt...</td>\n",
              "      <td>this is a super easy, great tasting, make ahea...</td>\n",
              "      <td>spreadable cheese with garlic and herbs, new p...</td>\n",
              "      <td>11</td>\n",
              "      <td>368.1</td>\n",
              "      <td>17.0</td>\n",
              "      <td>10.0</td>\n",
              "      <td>2.0</td>\n",
              "      <td>14.0</td>\n",
              "      <td>8.0</td>\n",
              "      <td>20.0</td>\n",
              "      <td>[-0.048682474, -0.04654153, -0.013404117, 0.01...</td>\n",
              "    </tr>\n",
              "    <tr>\n",
              "      <th>4</th>\n",
              "      <td>amish  tomato ketchup  for canning</td>\n",
              "      <td>190</td>\n",
              "      <td>5</td>\n",
              "      <td>[mix all ingredients&amp; boil for 2 1 / 2 hours ,...</td>\n",
              "      <td>my dh's amish mother raised him on this recipe...</td>\n",
              "      <td>tomato juice, apple cider vinegar, sugar, salt...</td>\n",
              "      <td>8</td>\n",
              "      <td>352.9</td>\n",
              "      <td>1.0</td>\n",
              "      <td>337.0</td>\n",
              "      <td>23.0</td>\n",
              "      <td>3.0</td>\n",
              "      <td>0.0</td>\n",
              "      <td>28.0</td>\n",
              "      <td>[-0.06817169, 0.030255292, 0.026339032, 0.0327...</td>\n",
              "    </tr>\n",
              "    <tr>\n",
              "      <th>...</th>\n",
              "      <td>...</td>\n",
              "      <td>...</td>\n",
              "      <td>...</td>\n",
              "      <td>...</td>\n",
              "      <td>...</td>\n",
              "      <td>...</td>\n",
              "      <td>...</td>\n",
              "      <td>...</td>\n",
              "      <td>...</td>\n",
              "      <td>...</td>\n",
              "      <td>...</td>\n",
              "      <td>...</td>\n",
              "      <td>...</td>\n",
              "      <td>...</td>\n",
              "      <td>...</td>\n",
              "    </tr>\n",
              "    <tr>\n",
              "      <th>7982</th>\n",
              "      <td>apricot and raisin fruit bars</td>\n",
              "      <td>80</td>\n",
              "      <td>16</td>\n",
              "      <td>[preheat oven to 350f, cut butter in pieces an...</td>\n",
              "      <td>delicious and easy fruit bars that make good u...</td>\n",
              "      <td>butter, flour, powdered sugar, salt, dried apr...</td>\n",
              "      <td>11</td>\n",
              "      <td>2693.9</td>\n",
              "      <td>208.0</td>\n",
              "      <td>846.0</td>\n",
              "      <td>78.0</td>\n",
              "      <td>82.0</td>\n",
              "      <td>339.0</td>\n",
              "      <td>116.0</td>\n",
              "      <td>[-0.037797265, -0.0024575847, 0.050846573, 0.0...</td>\n",
              "    </tr>\n",
              "    <tr>\n",
              "      <th>7983</th>\n",
              "      <td>apricot and sweet chilli chicken hot pot</td>\n",
              "      <td>35</td>\n",
              "      <td>6</td>\n",
              "      <td>[heat oil in a large saucepan and cook chicken...</td>\n",
              "      <td>i found this recipe from campbells, a great qu...</td>\n",
              "      <td>oil, chicken breast fillets, chicken stock, dr...</td>\n",
              "      <td>7</td>\n",
              "      <td>457.3</td>\n",
              "      <td>17.0</td>\n",
              "      <td>93.0</td>\n",
              "      <td>27.0</td>\n",
              "      <td>97.0</td>\n",
              "      <td>11.0</td>\n",
              "      <td>13.0</td>\n",
              "      <td>[-0.061615206, -0.0468792, 0.05577014, 0.08877...</td>\n",
              "    </tr>\n",
              "    <tr>\n",
              "      <th>7984</th>\n",
              "      <td>apricot and tarragon baby carrots</td>\n",
              "      <td>17</td>\n",
              "      <td>4</td>\n",
              "      <td>[steam or boil carrots until fork-tender, drai...</td>\n",
              "      <td>i serve these carrots often.</td>\n",
              "      <td>baby carrots, unsalted butter, salt, apricot p...</td>\n",
              "      <td>6</td>\n",
              "      <td>105.3</td>\n",
              "      <td>4.0</td>\n",
              "      <td>53.0</td>\n",
              "      <td>9.0</td>\n",
              "      <td>1.0</td>\n",
              "      <td>9.0</td>\n",
              "      <td>6.0</td>\n",
              "      <td>[-0.045175068, 0.03886988, 0.01198832, 0.04431...</td>\n",
              "    </tr>\n",
              "    <tr>\n",
              "      <th>7985</th>\n",
              "      <td>apricot angel brownies</td>\n",
              "      <td>35</td>\n",
              "      <td>8</td>\n",
              "      <td>[preheat oven to 350 degrees f , then grease a...</td>\n",
              "      <td>here's something a bit different for the brown...</td>\n",
              "      <td>white chocolate baking squares, unsalted butte...</td>\n",
              "      <td>11</td>\n",
              "      <td>108.1</td>\n",
              "      <td>8.0</td>\n",
              "      <td>42.0</td>\n",
              "      <td>1.0</td>\n",
              "      <td>3.0</td>\n",
              "      <td>14.0</td>\n",
              "      <td>4.0</td>\n",
              "      <td>[0.024234097, -0.00023074009, 0.051806446, 0.0...</td>\n",
              "    </tr>\n",
              "    <tr>\n",
              "      <th>7986</th>\n",
              "      <td>apricot applesauce   jewish</td>\n",
              "      <td>65</td>\n",
              "      <td>6</td>\n",
              "      <td>[in a large , heavy saucepan , combine the apr...</td>\n",
              "      <td>this recipe -- for hanukkah -- was found in th...</td>\n",
              "      <td>dried apricot, apple juice, vanilla bean, fres...</td>\n",
              "      <td>6</td>\n",
              "      <td>58.3</td>\n",
              "      <td>0.0</td>\n",
              "      <td>48.0</td>\n",
              "      <td>0.0</td>\n",
              "      <td>0.0</td>\n",
              "      <td>0.0</td>\n",
              "      <td>5.0</td>\n",
              "      <td>[-0.020991422, -0.059744857, 0.0412375, 0.0572...</td>\n",
              "    </tr>\n",
              "  </tbody>\n",
              "</table>\n",
              "<p>7987 rows × 15 columns</p>\n",
              "</div>"
            ],
            "text/plain": [
              "                                            name  minutes  n_steps  \\\n",
              "0     arriba   baked winter squash mexican style       55       11   \n",
              "1               a bit different  breakfast pizza       30        9   \n",
              "2                      all in the kitchen  chili      130        6   \n",
              "3                             alouette  potatoes       45       11   \n",
              "4             amish  tomato ketchup  for canning      190        5   \n",
              "...                                          ...      ...      ...   \n",
              "7982               apricot and raisin fruit bars       80       16   \n",
              "7983    apricot and sweet chilli chicken hot pot       35        6   \n",
              "7984           apricot and tarragon baby carrots       17        4   \n",
              "7985                      apricot angel brownies       35        8   \n",
              "7986                 apricot applesauce   jewish       65        6   \n",
              "\n",
              "                                                  steps  \\\n",
              "0     [make a choice and proceed with recipe, depend...   \n",
              "1     [preheat oven to 425 degrees f, press dough in...   \n",
              "2     [brown ground beef in large pot, add chopped o...   \n",
              "3     [place potatoes in a large pot of lightly salt...   \n",
              "4     [mix all ingredients& boil for 2 1 / 2 hours ,...   \n",
              "...                                                 ...   \n",
              "7982  [preheat oven to 350f, cut butter in pieces an...   \n",
              "7983  [heat oil in a large saucepan and cook chicken...   \n",
              "7984  [steam or boil carrots until fork-tender, drai...   \n",
              "7985  [preheat oven to 350 degrees f , then grease a...   \n",
              "7986  [in a large , heavy saucepan , combine the apr...   \n",
              "\n",
              "                                            description  \\\n",
              "0     autumn is my favorite time of year to cook! th...   \n",
              "1     this recipe calls for the crust to be prebaked...   \n",
              "2     this modified version of 'mom's' chili was a h...   \n",
              "3     this is a super easy, great tasting, make ahea...   \n",
              "4     my dh's amish mother raised him on this recipe...   \n",
              "...                                                 ...   \n",
              "7982  delicious and easy fruit bars that make good u...   \n",
              "7983  i found this recipe from campbells, a great qu...   \n",
              "7984                       i serve these carrots often.   \n",
              "7985  here's something a bit different for the brown...   \n",
              "7986  this recipe -- for hanukkah -- was found in th...   \n",
              "\n",
              "                                            ingredients  n_ingredients  \\\n",
              "0     winter squash, mexican seasoning, mixed spice,...              7   \n",
              "1     prepared pizza crust, sausage patty, eggs, mil...              6   \n",
              "2     ground beef, yellow onions, diced tomatoes, to...             13   \n",
              "3     spreadable cheese with garlic and herbs, new p...             11   \n",
              "4     tomato juice, apple cider vinegar, sugar, salt...              8   \n",
              "...                                                 ...            ...   \n",
              "7982  butter, flour, powdered sugar, salt, dried apr...             11   \n",
              "7983  oil, chicken breast fillets, chicken stock, dr...              7   \n",
              "7984  baby carrots, unsalted butter, salt, apricot p...              6   \n",
              "7985  white chocolate baking squares, unsalted butte...             11   \n",
              "7986  dried apricot, apple juice, vanilla bean, fres...              6   \n",
              "\n",
              "      calories  total fat (PDV)  sugar (PDV)  sodium (PDV)  protein (PDV)  \\\n",
              "0         51.5              0.0         13.0           0.0            2.0   \n",
              "1        173.4             18.0          0.0          17.0           22.0   \n",
              "2        269.8             22.0         32.0          48.0           39.0   \n",
              "3        368.1             17.0         10.0           2.0           14.0   \n",
              "4        352.9              1.0        337.0          23.0            3.0   \n",
              "...        ...              ...          ...           ...            ...   \n",
              "7982    2693.9            208.0        846.0          78.0           82.0   \n",
              "7983     457.3             17.0         93.0          27.0           97.0   \n",
              "7984     105.3              4.0         53.0           9.0            1.0   \n",
              "7985     108.1              8.0         42.0           1.0            3.0   \n",
              "7986      58.3              0.0         48.0           0.0            0.0   \n",
              "\n",
              "      saturated fat (PDV)  carbohydrates (PDV)  \\\n",
              "0                     0.0                  4.0   \n",
              "1                    35.0                  1.0   \n",
              "2                    27.0                  5.0   \n",
              "3                     8.0                 20.0   \n",
              "4                     0.0                 28.0   \n",
              "...                   ...                  ...   \n",
              "7982                339.0                116.0   \n",
              "7983                 11.0                 13.0   \n",
              "7984                  9.0                  6.0   \n",
              "7985                 14.0                  4.0   \n",
              "7986                  0.0                  5.0   \n",
              "\n",
              "                                              embedding  \n",
              "0     [-0.008845049, 0.009866926, 0.028063796, 0.101...  \n",
              "1     [-0.054575536, 0.027983457, 0.065263726, 0.032...  \n",
              "2     [-0.10401253, -0.024388006, 0.06653514, 0.0346...  \n",
              "3     [-0.048682474, -0.04654153, -0.013404117, 0.01...  \n",
              "4     [-0.06817169, 0.030255292, 0.026339032, 0.0327...  \n",
              "...                                                 ...  \n",
              "7982  [-0.037797265, -0.0024575847, 0.050846573, 0.0...  \n",
              "7983  [-0.061615206, -0.0468792, 0.05577014, 0.08877...  \n",
              "7984  [-0.045175068, 0.03886988, 0.01198832, 0.04431...  \n",
              "7985  [0.024234097, -0.00023074009, 0.051806446, 0.0...  \n",
              "7986  [-0.020991422, -0.059744857, 0.0412375, 0.0572...  \n",
              "\n",
              "[7987 rows x 15 columns]"
            ]
          },
          "execution_count": 15,
          "metadata": {},
          "output_type": "execute_result"
        }
      ],
      "source": [
        "pd.read_parquet(r'https://github.com/kavyajeetbora/recipe_recommender/raw/master/data/recipes_0.parquet')"
      ]
    }
  ],
  "metadata": {
    "colab": {
      "authorship_tag": "ABX9TyMzPuekpiHsosi8P30NsU0c",
      "include_colab_link": true,
      "provenance": []
    },
    "kernelspec": {
      "display_name": "Python 3",
      "name": "python3"
    },
    "language_info": {
      "codemirror_mode": {
        "name": "ipython",
        "version": 3
      },
      "file_extension": ".py",
      "mimetype": "text/x-python",
      "name": "python",
      "nbconvert_exporter": "python",
      "pygments_lexer": "ipython3",
      "version": "3.12.1"
    }
  },
  "nbformat": 4,
  "nbformat_minor": 0
}
