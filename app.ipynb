{
  "cells": [
    {
      "cell_type": "markdown",
      "metadata": {
        "colab_type": "text",
        "id": "view-in-github"
      },
      "source": [
        "<a href=\"https://colab.research.google.com/github/kavyajeetbora/recipe_recommender/blob/master/analysis.ipynb\" target=\"_parent\"><img src=\"https://colab.research.google.com/assets/colab-badge.svg\" alt=\"Open In Colab\"/></a>"
      ]
    },
    {
      "cell_type": "code",
      "execution_count": 27,
      "metadata": {
        "id": "-CD0y8516a5u"
      },
      "outputs": [],
      "source": [
        "from glob import glob\n",
        "import pandas as pd\n",
        "import numpy as np\n",
        "import plotly.graph_objects as go\n",
        "import streamlit as st"
      ]
    },
    {
      "cell_type": "code",
      "execution_count": 65,
      "metadata": {},
      "outputs": [
        {
          "data": {
            "text/plain": [
              "\"'make a choice and proceed with recipe', 'depending on size of squash , cut into half or fourths', 'remove seeds', 'for spicy squash , drizzle olive oil or melted butter over each cut squash piece', 'season with mexican seasoning mix ii', 'for sweet squash , drizzle melted honey , butter , grated piloncillo over each cut squash piece', 'season with sweet mexican spice mix', 'bake at 350 degrees , again depending on size , for 40 minutes up to an hour , until a fork can easily pierce the skin', 'be careful not to burn the squash especially if you opt to use sugar or butter', 'if you feel more comfortable , cover the squash with aluminum foil the first half hour , give or take , of baking', 'if desired , season with salt'\""
            ]
          },
          "execution_count": 65,
          "metadata": {},
          "output_type": "execute_result"
        }
      ],
      "source": [
        "files = glob(r\"data\\*.parquet\")\n",
        "df = pd.read_parquet(files)\n",
        "df['steps'] = df['steps'].str.strip(\"[]\")\n",
        "df.iloc[0]['steps']"
      ]
    },
    {
      "cell_type": "code",
      "execution_count": 66,
      "metadata": {},
      "outputs": [
        {
          "name": "stdout",
          "output_type": "stream",
          "text": [
            "Shape of the dataframe (231637, 15)\n"
          ]
        },
        {
          "data": {
            "text/html": [
              "<div>\n",
              "<style scoped>\n",
              "    .dataframe tbody tr th:only-of-type {\n",
              "        vertical-align: middle;\n",
              "    }\n",
              "\n",
              "    .dataframe tbody tr th {\n",
              "        vertical-align: top;\n",
              "    }\n",
              "\n",
              "    .dataframe thead th {\n",
              "        text-align: right;\n",
              "    }\n",
              "</style>\n",
              "<table border=\"1\" class=\"dataframe\">\n",
              "  <thead>\n",
              "    <tr style=\"text-align: right;\">\n",
              "      <th></th>\n",
              "      <th>name</th>\n",
              "      <th>minutes</th>\n",
              "      <th>n_steps</th>\n",
              "      <th>steps</th>\n",
              "      <th>description</th>\n",
              "      <th>ingredients</th>\n",
              "      <th>n_ingredients</th>\n",
              "      <th>calories</th>\n",
              "      <th>total fat (PDV)</th>\n",
              "      <th>sugar (PDV)</th>\n",
              "      <th>sodium (PDV)</th>\n",
              "      <th>protein (PDV)</th>\n",
              "      <th>saturated fat (PDV)</th>\n",
              "      <th>carbohydrates (PDV)</th>\n",
              "      <th>embedding</th>\n",
              "    </tr>\n",
              "  </thead>\n",
              "  <tbody>\n",
              "    <tr>\n",
              "      <th>0</th>\n",
              "      <td>arriba   baked winter squash mexican style</td>\n",
              "      <td>55</td>\n",
              "      <td>11</td>\n",
              "      <td>['make a choice and proceed with recipe, 'depe...</td>\n",
              "      <td>autumn is my favorite time of year to cook! th...</td>\n",
              "      <td>[winter squash, mexican seasoning, mixed spice...</td>\n",
              "      <td>7</td>\n",
              "      <td>51.5</td>\n",
              "      <td>0.0</td>\n",
              "      <td>13.0</td>\n",
              "      <td>0.0</td>\n",
              "      <td>2.0</td>\n",
              "      <td>0.0</td>\n",
              "      <td>4.0</td>\n",
              "      <td>[-0.039017964, 0.030269215, 0.010577081, 0.089...</td>\n",
              "    </tr>\n",
              "    <tr>\n",
              "      <th>1</th>\n",
              "      <td>a bit different  breakfast pizza</td>\n",
              "      <td>30</td>\n",
              "      <td>9</td>\n",
              "      <td>['preheat oven to 425 degrees f, 'press dough ...</td>\n",
              "      <td>this recipe calls for the crust to be prebaked...</td>\n",
              "      <td>[prepared pizza crust, sausage patty, eggs, mi...</td>\n",
              "      <td>6</td>\n",
              "      <td>173.4</td>\n",
              "      <td>18.0</td>\n",
              "      <td>0.0</td>\n",
              "      <td>17.0</td>\n",
              "      <td>22.0</td>\n",
              "      <td>35.0</td>\n",
              "      <td>1.0</td>\n",
              "      <td>[-0.06494449, 0.008968874, 0.059068605, 0.0291...</td>\n",
              "    </tr>\n",
              "    <tr>\n",
              "      <th>2</th>\n",
              "      <td>all in the kitchen  chili</td>\n",
              "      <td>130</td>\n",
              "      <td>6</td>\n",
              "      <td>['brown ground beef in large pot, 'add chopped...</td>\n",
              "      <td>this modified version of 'mom's' chili was a h...</td>\n",
              "      <td>[ground beef, yellow onions, diced tomatoes, t...</td>\n",
              "      <td>13</td>\n",
              "      <td>269.8</td>\n",
              "      <td>22.0</td>\n",
              "      <td>32.0</td>\n",
              "      <td>48.0</td>\n",
              "      <td>39.0</td>\n",
              "      <td>27.0</td>\n",
              "      <td>5.0</td>\n",
              "      <td>[-0.10917001, -0.01785316, 0.0396873, 0.044659...</td>\n",
              "    </tr>\n",
              "  </tbody>\n",
              "</table>\n",
              "</div>"
            ],
            "text/plain": [
              "                                         name  minutes  n_steps  \\\n",
              "0  arriba   baked winter squash mexican style       55       11   \n",
              "1            a bit different  breakfast pizza       30        9   \n",
              "2                   all in the kitchen  chili      130        6   \n",
              "\n",
              "                                               steps  \\\n",
              "0  ['make a choice and proceed with recipe, 'depe...   \n",
              "1  ['preheat oven to 425 degrees f, 'press dough ...   \n",
              "2  ['brown ground beef in large pot, 'add chopped...   \n",
              "\n",
              "                                         description  \\\n",
              "0  autumn is my favorite time of year to cook! th...   \n",
              "1  this recipe calls for the crust to be prebaked...   \n",
              "2  this modified version of 'mom's' chili was a h...   \n",
              "\n",
              "                                         ingredients  n_ingredients  calories  \\\n",
              "0  [winter squash, mexican seasoning, mixed spice...              7      51.5   \n",
              "1  [prepared pizza crust, sausage patty, eggs, mi...              6     173.4   \n",
              "2  [ground beef, yellow onions, diced tomatoes, t...             13     269.8   \n",
              "\n",
              "   total fat (PDV)  sugar (PDV)  sodium (PDV)  protein (PDV)  \\\n",
              "0              0.0         13.0           0.0            2.0   \n",
              "1             18.0          0.0          17.0           22.0   \n",
              "2             22.0         32.0          48.0           39.0   \n",
              "\n",
              "   saturated fat (PDV)  carbohydrates (PDV)  \\\n",
              "0                  0.0                  4.0   \n",
              "1                 35.0                  1.0   \n",
              "2                 27.0                  5.0   \n",
              "\n",
              "                                           embedding  \n",
              "0  [-0.039017964, 0.030269215, 0.010577081, 0.089...  \n",
              "1  [-0.06494449, 0.008968874, 0.059068605, 0.0291...  \n",
              "2  [-0.10917001, -0.01785316, 0.0396873, 0.044659...  "
            ]
          },
          "execution_count": 66,
          "metadata": {},
          "output_type": "execute_result"
        }
      ],
      "source": [
        "files = glob(r\"data\\*.parquet\")\n",
        "df = pd.read_parquet(files)\n",
        "df['ingredients'] = df['ingredients'].str.strip(\"[]\").str.replace(\"'\",\"\").str.replace('\"',\"\").str.split(\"',\").apply(lambda x: [y.strip() for y in x])\n",
        "df['steps'] = df['steps'].str.strip(\"[]\").str.replace('\"',\"\").str.split(\"',\").apply(lambda x: [y.replace(\"'\",\"\").strip() for y in x])\n",
        "print(\"Shape of the dataframe\",df.shape)\n",
        "df.head(3)"
      ]
    },
    {
      "cell_type": "code",
      "execution_count": 3,
      "metadata": {},
      "outputs": [],
      "source": [
        "def cosine_similarity(vec1,vec2):\n",
        "    '''\n",
        "    Returns the cosine similarity between two vectors of n dimension\n",
        "    '''\n",
        "    denom = np.sqrt(np.sum(np.square(vec1))) * np.sqrt(np.sum(np.square(vec2)))\n",
        "    return np.round(np.dot(vec1,vec2) / denom * 100, 2)"
      ]
    },
    {
      "cell_type": "code",
      "execution_count": 4,
      "metadata": {},
      "outputs": [
        {
          "name": "stdout",
          "output_type": "stream",
          "text": [
            "Name of the dish: 1890 cream cake\n"
          ]
        }
      ],
      "source": [
        "index = 999\n",
        "data = df.iloc[index]\n",
        "recipe, vector = data['name'], data['embedding']\n",
        "\n",
        "print(\"Name of the dish:\", recipe)"
      ]
    },
    {
      "cell_type": "code",
      "execution_count": 5,
      "metadata": {},
      "outputs": [
        {
          "name": "stdout",
          "output_type": "stream",
          "text": [
            "CPU times: total: 4.08 s\n",
            "Wall time: 4.08 s\n"
          ]
        },
        {
          "data": {
            "text/html": [
              "<div>\n",
              "<style scoped>\n",
              "    .dataframe tbody tr th:only-of-type {\n",
              "        vertical-align: middle;\n",
              "    }\n",
              "\n",
              "    .dataframe tbody tr th {\n",
              "        vertical-align: top;\n",
              "    }\n",
              "\n",
              "    .dataframe thead th {\n",
              "        text-align: right;\n",
              "    }\n",
              "</style>\n",
              "<table border=\"1\" class=\"dataframe\">\n",
              "  <thead>\n",
              "    <tr style=\"text-align: right;\">\n",
              "      <th></th>\n",
              "      <th>name</th>\n",
              "      <th>minutes</th>\n",
              "      <th>n_steps</th>\n",
              "      <th>steps</th>\n",
              "      <th>description</th>\n",
              "      <th>ingredients</th>\n",
              "      <th>n_ingredients</th>\n",
              "      <th>calories</th>\n",
              "      <th>total fat (PDV)</th>\n",
              "      <th>sugar (PDV)</th>\n",
              "      <th>sodium (PDV)</th>\n",
              "      <th>protein (PDV)</th>\n",
              "      <th>saturated fat (PDV)</th>\n",
              "      <th>carbohydrates (PDV)</th>\n",
              "      <th>embedding</th>\n",
              "      <th>similarity</th>\n",
              "    </tr>\n",
              "  </thead>\n",
              "  <tbody>\n",
              "    <tr>\n",
              "      <th>136066</th>\n",
              "      <td>south african beesting cake with custard filling</td>\n",
              "      <td>105</td>\n",
              "      <td>24</td>\n",
              "      <td>['preheat oven to 350 deg f / 180 deg celsius'...</td>\n",
              "      <td>i do not know where the \"bee-sting\" comes from...</td>\n",
              "      <td>['flour', 'baking powder', 'salt', 'butter', '...</td>\n",
              "      <td>13</td>\n",
              "      <td>500.9</td>\n",
              "      <td>49.0</td>\n",
              "      <td>83.0</td>\n",
              "      <td>15.0</td>\n",
              "      <td>16.0</td>\n",
              "      <td>83.0</td>\n",
              "      <td>15.0</td>\n",
              "      <td>[-0.049224626, -0.03398056, 0.03450093, 0.0180...</td>\n",
              "      <td>95.68</td>\n",
              "    </tr>\n",
              "    <tr>\n",
              "      <th>170691</th>\n",
              "      <td>white sponge cake</td>\n",
              "      <td>70</td>\n",
              "      <td>21</td>\n",
              "      <td>['preheat oven to 400 degrees f', 'grease 3- 1...</td>\n",
              "      <td>nice light white cake. delicious served filled...</td>\n",
              "      <td>['egg yolk', 'eggs', 'sugar', 'salt', 'baking ...</td>\n",
              "      <td>10</td>\n",
              "      <td>584.2</td>\n",
              "      <td>30.0</td>\n",
              "      <td>168.0</td>\n",
              "      <td>26.0</td>\n",
              "      <td>24.0</td>\n",
              "      <td>13.0</td>\n",
              "      <td>29.0</td>\n",
              "      <td>[-0.035752527, 0.016094102, 0.029773716, -0.01...</td>\n",
              "      <td>95.26</td>\n",
              "    </tr>\n",
              "    <tr>\n",
              "      <th>22010</th>\n",
              "      <td>frankfurter kranz  buttercream filled cake</td>\n",
              "      <td>90</td>\n",
              "      <td>27</td>\n",
              "      <td>['preheat oven to 350f', 'cream butter with su...</td>\n",
              "      <td>this recipe is posted by request-please read t...</td>\n",
              "      <td>['butter', 'granulated sugar', 'eggs', 'lemon,...</td>\n",
              "      <td>11</td>\n",
              "      <td>5544.0</td>\n",
              "      <td>579.0</td>\n",
              "      <td>1434.0</td>\n",
              "      <td>137.0</td>\n",
              "      <td>156.0</td>\n",
              "      <td>925.0</td>\n",
              "      <td>165.0</td>\n",
              "      <td>[-0.041397896, -0.0044432464, 0.03030667, 0.00...</td>\n",
              "      <td>95.19</td>\n",
              "    </tr>\n",
              "  </tbody>\n",
              "</table>\n",
              "</div>"
            ],
            "text/plain": [
              "                                                    name  minutes  n_steps  \\\n",
              "136066  south african beesting cake with custard filling      105       24   \n",
              "170691                                 white sponge cake       70       21   \n",
              "22010         frankfurter kranz  buttercream filled cake       90       27   \n",
              "\n",
              "                                                    steps  \\\n",
              "136066  ['preheat oven to 350 deg f / 180 deg celsius'...   \n",
              "170691  ['preheat oven to 400 degrees f', 'grease 3- 1...   \n",
              "22010   ['preheat oven to 350f', 'cream butter with su...   \n",
              "\n",
              "                                              description  \\\n",
              "136066  i do not know where the \"bee-sting\" comes from...   \n",
              "170691  nice light white cake. delicious served filled...   \n",
              "22010   this recipe is posted by request-please read t...   \n",
              "\n",
              "                                              ingredients  n_ingredients  \\\n",
              "136066  ['flour', 'baking powder', 'salt', 'butter', '...             13   \n",
              "170691  ['egg yolk', 'eggs', 'sugar', 'salt', 'baking ...             10   \n",
              "22010   ['butter', 'granulated sugar', 'eggs', 'lemon,...             11   \n",
              "\n",
              "        calories  total fat (PDV)  sugar (PDV)  sodium (PDV)  protein (PDV)  \\\n",
              "136066     500.9             49.0         83.0          15.0           16.0   \n",
              "170691     584.2             30.0        168.0          26.0           24.0   \n",
              "22010     5544.0            579.0       1434.0         137.0          156.0   \n",
              "\n",
              "        saturated fat (PDV)  carbohydrates (PDV)  \\\n",
              "136066                 83.0                 15.0   \n",
              "170691                 13.0                 29.0   \n",
              "22010                 925.0                165.0   \n",
              "\n",
              "                                                embedding  similarity  \n",
              "136066  [-0.049224626, -0.03398056, 0.03450093, 0.0180...       95.68  \n",
              "170691  [-0.035752527, 0.016094102, 0.029773716, -0.01...       95.26  \n",
              "22010   [-0.041397896, -0.0044432464, 0.03030667, 0.00...       95.19  "
            ]
          },
          "execution_count": 5,
          "metadata": {},
          "output_type": "execute_result"
        }
      ],
      "source": [
        "%%time\n",
        "\n",
        "df_result = df.copy()\n",
        "df_result['similarity'] = df_result['embedding'].apply(lambda x : cosine_similarity(vector, x))\n",
        "df_result.sort_values(by=\"similarity\", ascending=False).iloc[1:4]"
      ]
    },
    {
      "cell_type": "code",
      "execution_count": 6,
      "metadata": {},
      "outputs": [
        {
          "data": {
            "text/html": [
              "<div>\n",
              "<style scoped>\n",
              "    .dataframe tbody tr th:only-of-type {\n",
              "        vertical-align: middle;\n",
              "    }\n",
              "\n",
              "    .dataframe tbody tr th {\n",
              "        vertical-align: top;\n",
              "    }\n",
              "\n",
              "    .dataframe thead th {\n",
              "        text-align: right;\n",
              "    }\n",
              "</style>\n",
              "<table border=\"1\" class=\"dataframe\">\n",
              "  <thead>\n",
              "    <tr style=\"text-align: right;\">\n",
              "      <th></th>\n",
              "      <th>name</th>\n",
              "      <th>minutes</th>\n",
              "      <th>n_steps</th>\n",
              "      <th>steps</th>\n",
              "      <th>description</th>\n",
              "      <th>ingredients</th>\n",
              "      <th>n_ingredients</th>\n",
              "      <th>calories</th>\n",
              "      <th>total fat (PDV)</th>\n",
              "      <th>sugar (PDV)</th>\n",
              "      <th>sodium (PDV)</th>\n",
              "      <th>protein (PDV)</th>\n",
              "      <th>saturated fat (PDV)</th>\n",
              "      <th>carbohydrates (PDV)</th>\n",
              "      <th>embedding</th>\n",
              "      <th>similarity</th>\n",
              "    </tr>\n",
              "  </thead>\n",
              "  <tbody>\n",
              "    <tr>\n",
              "      <th>21665</th>\n",
              "      <td>foolproof sourdough starter</td>\n",
              "      <td>4330</td>\n",
              "      <td>15</td>\n",
              "      <td>['mix the milk and yogurt together in a glass ...</td>\n",
              "      <td>this was found at alaska.net and trust me work...</td>\n",
              "      <td>['plain yogurt', 'milk', 'unbleached flour']</td>\n",
              "      <td>3</td>\n",
              "      <td>380.3</td>\n",
              "      <td>13.0</td>\n",
              "      <td>23.0</td>\n",
              "      <td>4.0</td>\n",
              "      <td>29.0</td>\n",
              "      <td>27.0</td>\n",
              "      <td>19.0</td>\n",
              "      <td>[-0.020224523, -0.011550143, 0.045514733, 0.03...</td>\n",
              "      <td>78.72</td>\n",
              "    </tr>\n",
              "    <tr>\n",
              "      <th>221425</th>\n",
              "      <td>dari s white chicken chili</td>\n",
              "      <td>40</td>\n",
              "      <td>6</td>\n",
              "      <td>['heat the olive oil in a large skillet or sau...</td>\n",
              "      <td>chili with a twist.  nothing to warm you up be...</td>\n",
              "      <td>['olive oil', 'onions', 'garlic cloves', 'drie...</td>\n",
              "      <td>15</td>\n",
              "      <td>533.5</td>\n",
              "      <td>33.0</td>\n",
              "      <td>14.0</td>\n",
              "      <td>30.0</td>\n",
              "      <td>80.0</td>\n",
              "      <td>50.0</td>\n",
              "      <td>12.0</td>\n",
              "      <td>[-0.091111556, 0.0023644804, 0.0027534447, 0.0...</td>\n",
              "      <td>64.99</td>\n",
              "    </tr>\n",
              "  </tbody>\n",
              "</table>\n",
              "</div>"
            ],
            "text/plain": [
              "                               name  minutes  n_steps  \\\n",
              "21665   foolproof sourdough starter     4330       15   \n",
              "221425   dari s white chicken chili       40        6   \n",
              "\n",
              "                                                    steps  \\\n",
              "21665   ['mix the milk and yogurt together in a glass ...   \n",
              "221425  ['heat the olive oil in a large skillet or sau...   \n",
              "\n",
              "                                              description  \\\n",
              "21665   this was found at alaska.net and trust me work...   \n",
              "221425  chili with a twist.  nothing to warm you up be...   \n",
              "\n",
              "                                              ingredients  n_ingredients  \\\n",
              "21665        ['plain yogurt', 'milk', 'unbleached flour']              3   \n",
              "221425  ['olive oil', 'onions', 'garlic cloves', 'drie...             15   \n",
              "\n",
              "        calories  total fat (PDV)  sugar (PDV)  sodium (PDV)  protein (PDV)  \\\n",
              "21665      380.3             13.0         23.0           4.0           29.0   \n",
              "221425     533.5             33.0         14.0          30.0           80.0   \n",
              "\n",
              "        saturated fat (PDV)  carbohydrates (PDV)  \\\n",
              "21665                  27.0                 19.0   \n",
              "221425                 50.0                 12.0   \n",
              "\n",
              "                                                embedding  similarity  \n",
              "21665   [-0.020224523, -0.011550143, 0.045514733, 0.03...       78.72  \n",
              "221425  [-0.091111556, 0.0023644804, 0.0027534447, 0.0...       64.99  "
            ]
          },
          "execution_count": 6,
          "metadata": {},
          "output_type": "execute_result"
        }
      ],
      "source": [
        "x = df_result.sample(10)\n",
        "x.head(2)"
      ]
    },
    {
      "cell_type": "code",
      "execution_count": 58,
      "metadata": {},
      "outputs": [
        {
          "data": {
            "text/plain": [
              "21665                [plain yogurt, milk, unbleached flour]\n",
              "221425    [olive oil, onions, garlic cloves, dried orega...\n",
              "29766     [active dry yeast, sugar, warm water, salt, wh...\n",
              "111908    [jumbo shrimp, all-purpose flour, panko breadc...\n",
              "132444    [red potatoes, extra virgin olive oil, sour cr...\n",
              "39816     [pumpkin puree, peanut butter, water, orange j...\n",
              "7894      [egg, applesauce, butter, dark brown sugar, gr...\n",
              "125054    [cornbread stuffing mix, celery, onion, butter...\n",
              "121587    [peaches, bananas, maraschino cherry, lemon ju...\n",
              "98461                                 [flour, butter, milk]\n",
              "Name: ingredients, dtype: object"
            ]
          },
          "execution_count": 58,
          "metadata": {},
          "output_type": "execute_result"
        }
      ],
      "source": []
    },
    {
      "cell_type": "code",
      "execution_count": null,
      "metadata": {},
      "outputs": [],
      "source": []
    },
    {
      "cell_type": "code",
      "execution_count": 29,
      "metadata": {},
      "outputs": [
        {
          "name": "stderr",
          "output_type": "stream",
          "text": [
            "2024-01-11 16:44:22.159 \n",
            "  \u001b[33m\u001b[1mWarning:\u001b[0m to view this Streamlit app on a browser, run it with the following\n",
            "  command:\n",
            "\n",
            "    streamlit run c:\\Users\\kbora\\Anaconda3\\envs\\recipe-env\\Lib\\site-packages\\ipykernel_launcher.py [ARGUMENTS]\n"
          ]
        },
        {
          "data": {
            "text/plain": [
              "DeltaGenerator()"
            ]
          },
          "execution_count": 29,
          "metadata": {},
          "output_type": "execute_result"
        }
      ],
      "source": [
        "min = x.iloc[0, 1]\n",
        "st.metric(label='Minutes', value=min)"
      ]
    },
    {
      "cell_type": "code",
      "execution_count": 26,
      "metadata": {},
      "outputs": [
        {
          "data": {
            "application/vnd.plotly.v1+json": {
              "config": {
                "plotlyServerURL": "https://plot.ly"
              },
              "data": [
                {
                  "type": "bar",
                  "width": 0.2,
                  "x": [
                    "total fat (PDV)",
                    "sugar (PDV)",
                    "sodium (PDV)",
                    "protein (PDV)",
                    "saturated fat (PDV)"
                  ],
                  "y": [
                    13,
                    23,
                    4,
                    29,
                    27
                  ]
                }
              ],
              "layout": {
                "bargap": 1,
                "bargroupgap": 0,
                "margin": {
                  "b": 20,
                  "l": 20,
                  "r": 20,
                  "t": 20
                },
                "template": {
                  "data": {
                    "bar": [
                      {
                        "error_x": {
                          "color": "#2a3f5f"
                        },
                        "error_y": {
                          "color": "#2a3f5f"
                        },
                        "marker": {
                          "line": {
                            "color": "#E5ECF6",
                            "width": 0.5
                          },
                          "pattern": {
                            "fillmode": "overlay",
                            "size": 10,
                            "solidity": 0.2
                          }
                        },
                        "type": "bar"
                      }
                    ],
                    "barpolar": [
                      {
                        "marker": {
                          "line": {
                            "color": "#E5ECF6",
                            "width": 0.5
                          },
                          "pattern": {
                            "fillmode": "overlay",
                            "size": 10,
                            "solidity": 0.2
                          }
                        },
                        "type": "barpolar"
                      }
                    ],
                    "carpet": [
                      {
                        "aaxis": {
                          "endlinecolor": "#2a3f5f",
                          "gridcolor": "white",
                          "linecolor": "white",
                          "minorgridcolor": "white",
                          "startlinecolor": "#2a3f5f"
                        },
                        "baxis": {
                          "endlinecolor": "#2a3f5f",
                          "gridcolor": "white",
                          "linecolor": "white",
                          "minorgridcolor": "white",
                          "startlinecolor": "#2a3f5f"
                        },
                        "type": "carpet"
                      }
                    ],
                    "choropleth": [
                      {
                        "colorbar": {
                          "outlinewidth": 0,
                          "ticks": ""
                        },
                        "type": "choropleth"
                      }
                    ],
                    "contour": [
                      {
                        "colorbar": {
                          "outlinewidth": 0,
                          "ticks": ""
                        },
                        "colorscale": [
                          [
                            0,
                            "#0d0887"
                          ],
                          [
                            0.1111111111111111,
                            "#46039f"
                          ],
                          [
                            0.2222222222222222,
                            "#7201a8"
                          ],
                          [
                            0.3333333333333333,
                            "#9c179e"
                          ],
                          [
                            0.4444444444444444,
                            "#bd3786"
                          ],
                          [
                            0.5555555555555556,
                            "#d8576b"
                          ],
                          [
                            0.6666666666666666,
                            "#ed7953"
                          ],
                          [
                            0.7777777777777778,
                            "#fb9f3a"
                          ],
                          [
                            0.8888888888888888,
                            "#fdca26"
                          ],
                          [
                            1,
                            "#f0f921"
                          ]
                        ],
                        "type": "contour"
                      }
                    ],
                    "contourcarpet": [
                      {
                        "colorbar": {
                          "outlinewidth": 0,
                          "ticks": ""
                        },
                        "type": "contourcarpet"
                      }
                    ],
                    "heatmap": [
                      {
                        "colorbar": {
                          "outlinewidth": 0,
                          "ticks": ""
                        },
                        "colorscale": [
                          [
                            0,
                            "#0d0887"
                          ],
                          [
                            0.1111111111111111,
                            "#46039f"
                          ],
                          [
                            0.2222222222222222,
                            "#7201a8"
                          ],
                          [
                            0.3333333333333333,
                            "#9c179e"
                          ],
                          [
                            0.4444444444444444,
                            "#bd3786"
                          ],
                          [
                            0.5555555555555556,
                            "#d8576b"
                          ],
                          [
                            0.6666666666666666,
                            "#ed7953"
                          ],
                          [
                            0.7777777777777778,
                            "#fb9f3a"
                          ],
                          [
                            0.8888888888888888,
                            "#fdca26"
                          ],
                          [
                            1,
                            "#f0f921"
                          ]
                        ],
                        "type": "heatmap"
                      }
                    ],
                    "heatmapgl": [
                      {
                        "colorbar": {
                          "outlinewidth": 0,
                          "ticks": ""
                        },
                        "colorscale": [
                          [
                            0,
                            "#0d0887"
                          ],
                          [
                            0.1111111111111111,
                            "#46039f"
                          ],
                          [
                            0.2222222222222222,
                            "#7201a8"
                          ],
                          [
                            0.3333333333333333,
                            "#9c179e"
                          ],
                          [
                            0.4444444444444444,
                            "#bd3786"
                          ],
                          [
                            0.5555555555555556,
                            "#d8576b"
                          ],
                          [
                            0.6666666666666666,
                            "#ed7953"
                          ],
                          [
                            0.7777777777777778,
                            "#fb9f3a"
                          ],
                          [
                            0.8888888888888888,
                            "#fdca26"
                          ],
                          [
                            1,
                            "#f0f921"
                          ]
                        ],
                        "type": "heatmapgl"
                      }
                    ],
                    "histogram": [
                      {
                        "marker": {
                          "pattern": {
                            "fillmode": "overlay",
                            "size": 10,
                            "solidity": 0.2
                          }
                        },
                        "type": "histogram"
                      }
                    ],
                    "histogram2d": [
                      {
                        "colorbar": {
                          "outlinewidth": 0,
                          "ticks": ""
                        },
                        "colorscale": [
                          [
                            0,
                            "#0d0887"
                          ],
                          [
                            0.1111111111111111,
                            "#46039f"
                          ],
                          [
                            0.2222222222222222,
                            "#7201a8"
                          ],
                          [
                            0.3333333333333333,
                            "#9c179e"
                          ],
                          [
                            0.4444444444444444,
                            "#bd3786"
                          ],
                          [
                            0.5555555555555556,
                            "#d8576b"
                          ],
                          [
                            0.6666666666666666,
                            "#ed7953"
                          ],
                          [
                            0.7777777777777778,
                            "#fb9f3a"
                          ],
                          [
                            0.8888888888888888,
                            "#fdca26"
                          ],
                          [
                            1,
                            "#f0f921"
                          ]
                        ],
                        "type": "histogram2d"
                      }
                    ],
                    "histogram2dcontour": [
                      {
                        "colorbar": {
                          "outlinewidth": 0,
                          "ticks": ""
                        },
                        "colorscale": [
                          [
                            0,
                            "#0d0887"
                          ],
                          [
                            0.1111111111111111,
                            "#46039f"
                          ],
                          [
                            0.2222222222222222,
                            "#7201a8"
                          ],
                          [
                            0.3333333333333333,
                            "#9c179e"
                          ],
                          [
                            0.4444444444444444,
                            "#bd3786"
                          ],
                          [
                            0.5555555555555556,
                            "#d8576b"
                          ],
                          [
                            0.6666666666666666,
                            "#ed7953"
                          ],
                          [
                            0.7777777777777778,
                            "#fb9f3a"
                          ],
                          [
                            0.8888888888888888,
                            "#fdca26"
                          ],
                          [
                            1,
                            "#f0f921"
                          ]
                        ],
                        "type": "histogram2dcontour"
                      }
                    ],
                    "mesh3d": [
                      {
                        "colorbar": {
                          "outlinewidth": 0,
                          "ticks": ""
                        },
                        "type": "mesh3d"
                      }
                    ],
                    "parcoords": [
                      {
                        "line": {
                          "colorbar": {
                            "outlinewidth": 0,
                            "ticks": ""
                          }
                        },
                        "type": "parcoords"
                      }
                    ],
                    "pie": [
                      {
                        "automargin": true,
                        "type": "pie"
                      }
                    ],
                    "scatter": [
                      {
                        "fillpattern": {
                          "fillmode": "overlay",
                          "size": 10,
                          "solidity": 0.2
                        },
                        "type": "scatter"
                      }
                    ],
                    "scatter3d": [
                      {
                        "line": {
                          "colorbar": {
                            "outlinewidth": 0,
                            "ticks": ""
                          }
                        },
                        "marker": {
                          "colorbar": {
                            "outlinewidth": 0,
                            "ticks": ""
                          }
                        },
                        "type": "scatter3d"
                      }
                    ],
                    "scattercarpet": [
                      {
                        "marker": {
                          "colorbar": {
                            "outlinewidth": 0,
                            "ticks": ""
                          }
                        },
                        "type": "scattercarpet"
                      }
                    ],
                    "scattergeo": [
                      {
                        "marker": {
                          "colorbar": {
                            "outlinewidth": 0,
                            "ticks": ""
                          }
                        },
                        "type": "scattergeo"
                      }
                    ],
                    "scattergl": [
                      {
                        "marker": {
                          "colorbar": {
                            "outlinewidth": 0,
                            "ticks": ""
                          }
                        },
                        "type": "scattergl"
                      }
                    ],
                    "scattermapbox": [
                      {
                        "marker": {
                          "colorbar": {
                            "outlinewidth": 0,
                            "ticks": ""
                          }
                        },
                        "type": "scattermapbox"
                      }
                    ],
                    "scatterpolar": [
                      {
                        "marker": {
                          "colorbar": {
                            "outlinewidth": 0,
                            "ticks": ""
                          }
                        },
                        "type": "scatterpolar"
                      }
                    ],
                    "scatterpolargl": [
                      {
                        "marker": {
                          "colorbar": {
                            "outlinewidth": 0,
                            "ticks": ""
                          }
                        },
                        "type": "scatterpolargl"
                      }
                    ],
                    "scatterternary": [
                      {
                        "marker": {
                          "colorbar": {
                            "outlinewidth": 0,
                            "ticks": ""
                          }
                        },
                        "type": "scatterternary"
                      }
                    ],
                    "surface": [
                      {
                        "colorbar": {
                          "outlinewidth": 0,
                          "ticks": ""
                        },
                        "colorscale": [
                          [
                            0,
                            "#0d0887"
                          ],
                          [
                            0.1111111111111111,
                            "#46039f"
                          ],
                          [
                            0.2222222222222222,
                            "#7201a8"
                          ],
                          [
                            0.3333333333333333,
                            "#9c179e"
                          ],
                          [
                            0.4444444444444444,
                            "#bd3786"
                          ],
                          [
                            0.5555555555555556,
                            "#d8576b"
                          ],
                          [
                            0.6666666666666666,
                            "#ed7953"
                          ],
                          [
                            0.7777777777777778,
                            "#fb9f3a"
                          ],
                          [
                            0.8888888888888888,
                            "#fdca26"
                          ],
                          [
                            1,
                            "#f0f921"
                          ]
                        ],
                        "type": "surface"
                      }
                    ],
                    "table": [
                      {
                        "cells": {
                          "fill": {
                            "color": "#EBF0F8"
                          },
                          "line": {
                            "color": "white"
                          }
                        },
                        "header": {
                          "fill": {
                            "color": "#C8D4E3"
                          },
                          "line": {
                            "color": "white"
                          }
                        },
                        "type": "table"
                      }
                    ]
                  },
                  "layout": {
                    "annotationdefaults": {
                      "arrowcolor": "#2a3f5f",
                      "arrowhead": 0,
                      "arrowwidth": 1
                    },
                    "autotypenumbers": "strict",
                    "coloraxis": {
                      "colorbar": {
                        "outlinewidth": 0,
                        "ticks": ""
                      }
                    },
                    "colorscale": {
                      "diverging": [
                        [
                          0,
                          "#8e0152"
                        ],
                        [
                          0.1,
                          "#c51b7d"
                        ],
                        [
                          0.2,
                          "#de77ae"
                        ],
                        [
                          0.3,
                          "#f1b6da"
                        ],
                        [
                          0.4,
                          "#fde0ef"
                        ],
                        [
                          0.5,
                          "#f7f7f7"
                        ],
                        [
                          0.6,
                          "#e6f5d0"
                        ],
                        [
                          0.7,
                          "#b8e186"
                        ],
                        [
                          0.8,
                          "#7fbc41"
                        ],
                        [
                          0.9,
                          "#4d9221"
                        ],
                        [
                          1,
                          "#276419"
                        ]
                      ],
                      "sequential": [
                        [
                          0,
                          "#0d0887"
                        ],
                        [
                          0.1111111111111111,
                          "#46039f"
                        ],
                        [
                          0.2222222222222222,
                          "#7201a8"
                        ],
                        [
                          0.3333333333333333,
                          "#9c179e"
                        ],
                        [
                          0.4444444444444444,
                          "#bd3786"
                        ],
                        [
                          0.5555555555555556,
                          "#d8576b"
                        ],
                        [
                          0.6666666666666666,
                          "#ed7953"
                        ],
                        [
                          0.7777777777777778,
                          "#fb9f3a"
                        ],
                        [
                          0.8888888888888888,
                          "#fdca26"
                        ],
                        [
                          1,
                          "#f0f921"
                        ]
                      ],
                      "sequentialminus": [
                        [
                          0,
                          "#0d0887"
                        ],
                        [
                          0.1111111111111111,
                          "#46039f"
                        ],
                        [
                          0.2222222222222222,
                          "#7201a8"
                        ],
                        [
                          0.3333333333333333,
                          "#9c179e"
                        ],
                        [
                          0.4444444444444444,
                          "#bd3786"
                        ],
                        [
                          0.5555555555555556,
                          "#d8576b"
                        ],
                        [
                          0.6666666666666666,
                          "#ed7953"
                        ],
                        [
                          0.7777777777777778,
                          "#fb9f3a"
                        ],
                        [
                          0.8888888888888888,
                          "#fdca26"
                        ],
                        [
                          1,
                          "#f0f921"
                        ]
                      ]
                    },
                    "colorway": [
                      "#636efa",
                      "#EF553B",
                      "#00cc96",
                      "#ab63fa",
                      "#FFA15A",
                      "#19d3f3",
                      "#FF6692",
                      "#B6E880",
                      "#FF97FF",
                      "#FECB52"
                    ],
                    "font": {
                      "color": "#2a3f5f"
                    },
                    "geo": {
                      "bgcolor": "white",
                      "lakecolor": "white",
                      "landcolor": "#E5ECF6",
                      "showlakes": true,
                      "showland": true,
                      "subunitcolor": "white"
                    },
                    "hoverlabel": {
                      "align": "left"
                    },
                    "hovermode": "closest",
                    "mapbox": {
                      "style": "light"
                    },
                    "paper_bgcolor": "white",
                    "plot_bgcolor": "#E5ECF6",
                    "polar": {
                      "angularaxis": {
                        "gridcolor": "white",
                        "linecolor": "white",
                        "ticks": ""
                      },
                      "bgcolor": "#E5ECF6",
                      "radialaxis": {
                        "gridcolor": "white",
                        "linecolor": "white",
                        "ticks": ""
                      }
                    },
                    "scene": {
                      "xaxis": {
                        "backgroundcolor": "#E5ECF6",
                        "gridcolor": "white",
                        "gridwidth": 2,
                        "linecolor": "white",
                        "showbackground": true,
                        "ticks": "",
                        "zerolinecolor": "white"
                      },
                      "yaxis": {
                        "backgroundcolor": "#E5ECF6",
                        "gridcolor": "white",
                        "gridwidth": 2,
                        "linecolor": "white",
                        "showbackground": true,
                        "ticks": "",
                        "zerolinecolor": "white"
                      },
                      "zaxis": {
                        "backgroundcolor": "#E5ECF6",
                        "gridcolor": "white",
                        "gridwidth": 2,
                        "linecolor": "white",
                        "showbackground": true,
                        "ticks": "",
                        "zerolinecolor": "white"
                      }
                    },
                    "shapedefaults": {
                      "line": {
                        "color": "#2a3f5f"
                      }
                    },
                    "ternary": {
                      "aaxis": {
                        "gridcolor": "white",
                        "linecolor": "white",
                        "ticks": ""
                      },
                      "baxis": {
                        "gridcolor": "white",
                        "linecolor": "white",
                        "ticks": ""
                      },
                      "bgcolor": "#E5ECF6",
                      "caxis": {
                        "gridcolor": "white",
                        "linecolor": "white",
                        "ticks": ""
                      }
                    },
                    "title": {
                      "x": 0.05
                    },
                    "xaxis": {
                      "automargin": true,
                      "gridcolor": "white",
                      "linecolor": "white",
                      "ticks": "",
                      "title": {
                        "standoff": 15
                      },
                      "zerolinecolor": "white",
                      "zerolinewidth": 2
                    },
                    "yaxis": {
                      "automargin": true,
                      "gridcolor": "white",
                      "linecolor": "white",
                      "ticks": "",
                      "title": {
                        "standoff": 15
                      },
                      "zerolinecolor": "white",
                      "zerolinewidth": 2
                    }
                  }
                },
                "xaxis": {
                  "showgrid": false
                },
                "yaxis": {
                  "showgrid": false,
                  "showticklabels": false
                }
              }
            }
          },
          "metadata": {},
          "output_type": "display_data"
        }
      ],
      "source": [
        "y = x.iloc[0, 8:13]\n",
        "fig = go.Figure(\n",
        "    go.Bar(\n",
        "        x = list(y.index),\n",
        "        y = list(y.values),\n",
        "        width = 0.2\n",
        "    )\n",
        ")\n",
        "fig.update_layout(\n",
        "    margin=dict(l=20, r=20, t=20, b=20),\n",
        "    bargap=1,\n",
        "    bargroupgap=0.0\n",
        ")\n",
        "fig.update_xaxes(\n",
        "    showgrid=False,\n",
        ")\n",
        "fig.update_yaxes(\n",
        "    showgrid=False,\n",
        "    showticklabels=False\n",
        ")\n",
        "fig.show()"
      ]
    },
    {
      "cell_type": "code",
      "execution_count": 8,
      "metadata": {},
      "outputs": [
        {
          "ename": "NameError",
          "evalue": "name 'px' is not defined",
          "output_type": "error",
          "traceback": [
            "\u001b[1;31m---------------------------------------------------------------------------\u001b[0m",
            "\u001b[1;31mNameError\u001b[0m                                 Traceback (most recent call last)",
            "Cell \u001b[1;32mIn[8], line 1\u001b[0m\n\u001b[1;32m----> 1\u001b[0m fig \u001b[38;5;241m=\u001b[39m \u001b[43mpx\u001b[49m\u001b[38;5;241m.\u001b[39mbar(y, x\u001b[38;5;241m=\u001b[39m\u001b[38;5;124m'\u001b[39m\u001b[38;5;124myear\u001b[39m\u001b[38;5;124m'\u001b[39m, y\u001b[38;5;241m=\u001b[39m\u001b[38;5;124m'\u001b[39m\u001b[38;5;124mpop\u001b[39m\u001b[38;5;124m'\u001b[39m,\n\u001b[0;32m      2\u001b[0m              hover_data\u001b[38;5;241m=\u001b[39m[\u001b[38;5;124m'\u001b[39m\u001b[38;5;124mlifeExp\u001b[39m\u001b[38;5;124m'\u001b[39m, \u001b[38;5;124m'\u001b[39m\u001b[38;5;124mgdpPercap\u001b[39m\u001b[38;5;124m'\u001b[39m], color\u001b[38;5;241m=\u001b[39m\u001b[38;5;124m'\u001b[39m\u001b[38;5;124mlifeExp\u001b[39m\u001b[38;5;124m'\u001b[39m,\n\u001b[0;32m      3\u001b[0m              labels\u001b[38;5;241m=\u001b[39m{\u001b[38;5;124m'\u001b[39m\u001b[38;5;124mpop\u001b[39m\u001b[38;5;124m'\u001b[39m:\u001b[38;5;124m'\u001b[39m\u001b[38;5;124mpopulation of Canada\u001b[39m\u001b[38;5;124m'\u001b[39m}, height\u001b[38;5;241m=\u001b[39m\u001b[38;5;241m400\u001b[39m)\n\u001b[0;32m      4\u001b[0m fig\u001b[38;5;241m.\u001b[39mshow()\n",
            "\u001b[1;31mNameError\u001b[0m: name 'px' is not defined"
          ]
        }
      ],
      "source": [
        "\n",
        "fig = px.bar(y, x='year', y='pop',\n",
        "             hover_data=['lifeExp', 'gdpPercap'], color='lifeExp',\n",
        "             labels={'pop':'population of Canada'}, height=400)\n",
        "fig.show()"
      ]
    }
  ],
  "metadata": {
    "colab": {
      "authorship_tag": "ABX9TyMzPuekpiHsosi8P30NsU0c",
      "include_colab_link": true,
      "provenance": []
    },
    "kernelspec": {
      "display_name": "Python 3",
      "name": "python3"
    },
    "language_info": {
      "codemirror_mode": {
        "name": "ipython",
        "version": 3
      },
      "file_extension": ".py",
      "mimetype": "text/x-python",
      "name": "python",
      "nbconvert_exporter": "python",
      "pygments_lexer": "ipython3",
      "version": "3.12.1"
    }
  },
  "nbformat": 4,
  "nbformat_minor": 0
}
